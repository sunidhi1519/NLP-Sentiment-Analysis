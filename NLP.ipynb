{
 "cells": [
  {
   "cell_type": "markdown",
   "id": "c47cb5c9",
   "metadata": {},
   "source": [
    "# USING LOGISTIC REGRESSION"
   ]
  },
  {
   "cell_type": "code",
   "execution_count": 2,
   "id": "403b5873",
   "metadata": {},
   "outputs": [
    {
     "name": "stdout",
     "output_type": "stream",
     "text": [
      "Requirement already satisfied: scikit-learn in c:\\users\\binod kumar\\appdata\\local\\programs\\python\\python311\\lib\\site-packages (1.3.0)\n",
      "Requirement already satisfied: numpy>=1.17.3 in c:\\users\\binod kumar\\appdata\\local\\programs\\python\\python311\\lib\\site-packages (from scikit-learn) (1.24.1)\n",
      "Requirement already satisfied: scipy>=1.5.0 in c:\\users\\binod kumar\\appdata\\local\\programs\\python\\python311\\lib\\site-packages (from scikit-learn) (1.11.1)\n",
      "Requirement already satisfied: joblib>=1.1.1 in c:\\users\\binod kumar\\appdata\\local\\programs\\python\\python311\\lib\\site-packages (from scikit-learn) (1.3.2)\n",
      "Requirement already satisfied: threadpoolctl>=2.0.0 in c:\\users\\binod kumar\\appdata\\local\\programs\\python\\python311\\lib\\site-packages (from scikit-learn) (3.2.0)\n",
      "Note: you may need to restart the kernel to use updated packages.\n"
     ]
    }
   ],
   "source": [
    "pip install scikit-learn"
   ]
  },
  {
   "cell_type": "code",
   "execution_count": 2,
   "id": "f9493604",
   "metadata": {},
   "outputs": [],
   "source": [
    "import os\n",
    "import tarfile\n",
    "import numpy as np\n",
    "from sklearn.feature_extraction.text import TfidfVectorizer\n",
    "from sklearn.linear_model import LogisticRegression\n",
    "from sklearn.metrics import accuracy_score, classification_report\n",
    "from sklearn.model_selection import train_test_split\n"
   ]
  },
  {
   "cell_type": "code",
   "execution_count": 3,
   "id": "04fe3e8b",
   "metadata": {},
   "outputs": [],
   "source": [
    "# download and extract dataset\n",
    "import urllib.request\n",
    "\n",
    "url = 'https://www.cs.cornell.edu/people/pabo/movie-review-data/rt-polaritydata.tar.gz'\n",
    "file_name = 'rt-polaritydata.tar.gz'\n",
    "\n",
    "# download\n",
    "if not os.path.exists(file_name):\n",
    "    urllib.request.urlretrieve(url, file_name)\n",
    "\n",
    "# extract\n",
    "with tarfile.open(file_name, 'r:gz') as tar:\n",
    "        tar.extractall()"
   ]
  },
  {
   "cell_type": "code",
   "execution_count": 4,
   "id": "20790e9b",
   "metadata": {},
   "outputs": [],
   "source": [
    "positive_path = \"rt-polaritydata/rt-polarity.pos\"\n",
    "negative_path = \"rt-polaritydata/rt-polarity.neg\""
   ]
  },
  {
   "cell_type": "code",
   "execution_count": 5,
   "id": "354bee23",
   "metadata": {},
   "outputs": [],
   "source": [
    "with open(positive_path, 'r', encoding ='latin-1') as file:\n",
    "    positive_sentences = file.readlines()\n",
    "\n",
    "with open(negative_path, 'r', encoding = 'latin-1' ) as file:\n",
    "    negative_sentences = file.readlines()\n",
    "\n",
    "\n",
    "positive_labels = np.ones(len(positive_sentences))\n",
    "negative_labels = np.zeros(len(negative_sentences))\n",
    "\n",
    "# combine\n",
    "sentences = np.array( positive_sentences + negative_sentences )\n",
    "labels = np.concatenate([positive_labels, negative_labels])\n"
   ]
  },
  {
   "cell_type": "code",
   "execution_count": 6,
   "id": "947a750a",
   "metadata": {},
   "outputs": [],
   "source": [
    "# training set : 4000 positive, 4000 negative \n",
    "# validation   : 500 positive , 500 negative\n",
    "# test         : 831 positive , 831 negative\n",
    "\n",
    "train_sentences = np.concatenate([positive_sentences[:4000], negative_sentences[:4000]])\n",
    "train_labels    = np.concatenate([positive_labels[:4000], negative_labels[:4000]])\n",
    "\n",
    "validation_sentences = np.concatenate([positive_sentences[4000:4500], negative_sentences[4000:4500]])\n",
    "validation_labels    = np.concatenate([positive_labels[4000:4500], negative_labels[4000:4500]])\n",
    "\n",
    "test_sentences = np.concatenate([positive_sentences[4500:], negative_sentences[4500:]])\n",
    "test_labels = np.concatenate([positive_labels[4500:], negative_labels[4500:]])"
   ]
  },
  {
   "cell_type": "code",
   "execution_count": 20,
   "id": "5bda3e49",
   "metadata": {},
   "outputs": [
    {
     "name": "stdout",
     "output_type": "stream",
     "text": [
      "Iteration 0: Loss = 0.6931\n",
      "Iteration 100: Loss = 0.6663\n",
      "Iteration 200: Loss = 0.6441\n",
      "Iteration 300: Loss = 0.6254\n",
      "Iteration 400: Loss = 0.6092\n",
      "Iteration 500: Loss = 0.5951\n",
      "Iteration 600: Loss = 0.5825\n",
      "Iteration 700: Loss = 0.5711\n",
      "Iteration 800: Loss = 0.5608\n",
      "Iteration 900: Loss = 0.5514\n",
      "Iteration 1000: Loss = 0.5427\n",
      "Iteration 1100: Loss = 0.5346\n",
      "Iteration 1200: Loss = 0.5270\n",
      "Iteration 1300: Loss = 0.5199\n",
      "Iteration 1400: Loss = 0.5133\n",
      "Iteration 1500: Loss = 0.5070\n",
      "Iteration 1600: Loss = 0.5010\n",
      "Iteration 1700: Loss = 0.4954\n",
      "Iteration 1800: Loss = 0.4900\n",
      "Iteration 1900: Loss = 0.4849\n",
      "Iteration 2000: Loss = 0.4800\n",
      "Iteration 2100: Loss = 0.4753\n",
      "Iteration 2200: Loss = 0.4708\n",
      "Iteration 2300: Loss = 0.4665\n",
      "Iteration 2400: Loss = 0.4623\n",
      "Iteration 2500: Loss = 0.4583\n",
      "Iteration 2600: Loss = 0.4545\n",
      "Iteration 2700: Loss = 0.4508\n",
      "Iteration 2800: Loss = 0.4472\n",
      "Iteration 2900: Loss = 0.4437\n",
      "Iteration 3000: Loss = 0.4404\n",
      "Iteration 3100: Loss = 0.4371\n",
      "Iteration 3200: Loss = 0.4340\n",
      "Iteration 3300: Loss = 0.4309\n",
      "Iteration 3400: Loss = 0.4279\n",
      "Iteration 3500: Loss = 0.4250\n",
      "Iteration 3600: Loss = 0.4222\n",
      "Iteration 3700: Loss = 0.4195\n",
      "Iteration 3800: Loss = 0.4168\n",
      "Iteration 3900: Loss = 0.4142\n",
      "Iteration 4000: Loss = 0.4117\n",
      "Iteration 4100: Loss = 0.4092\n",
      "Iteration 4200: Loss = 0.4068\n",
      "Iteration 4300: Loss = 0.4044\n",
      "Iteration 4400: Loss = 0.4021\n",
      "Iteration 4500: Loss = 0.3999\n",
      "Iteration 4600: Loss = 0.3977\n",
      "Iteration 4700: Loss = 0.3955\n",
      "Iteration 4800: Loss = 0.3934\n",
      "Iteration 4900: Loss = 0.3914\n",
      "Validation Accuracy: 76.60%\n"
     ]
    }
   ],
   "source": [
    "import numpy as np\n",
    "from sklearn.feature_extraction.text import TfidfVectorizer\n",
    "from sklearn.metrics import accuracy_score\n",
    "\n",
    "# Step 1: Vectorizing text using TF-IDF\n",
    "vectorizer = TfidfVectorizer(max_features=5000)\n",
    "train_vectors = vectorizer.fit_transform(train_sentences).toarray()\n",
    "validation_vectors = vectorizer.transform(validation_sentences).toarray()\n",
    "test_vectors = vectorizer.transform(test_sentences).toarray()\n",
    "\n",
    "# Step 2: Implement Logistic Regression from scratch\n",
    "class LogisticRegressionScratch:\n",
    "    def __init__(self, learning_rate=0.08, num_iterations=1500):\n",
    "        self.learning_rate = learning_rate\n",
    "        self.num_iterations = num_iterations\n",
    "        self.weights = None\n",
    "        self.bias = None\n",
    "\n",
    "    def sigmoid(self, z):\n",
    "        return 1 / (1 + np.exp(-z))\n",
    "\n",
    "    def initialize_params(self, n_features):\n",
    "        self.weights = np.zeros(n_features)\n",
    "        self.bias = 0\n",
    "\n",
    "    def compute_loss(self, y_true, y_pred):\n",
    "        m = y_true.shape[0]\n",
    "        loss = -1/m * np.sum(y_true * np.log(y_pred) + (1 - y_true) * np.log(1 - y_pred))\n",
    "        return loss\n",
    "\n",
    "    def fit(self, X, y):\n",
    "        m, n_features = X.shape\n",
    "        self.initialize_params(n_features)\n",
    "\n",
    "        for i in range(self.num_iterations):\n",
    "            # Forward propagation: Compute predictions\n",
    "            linear_model = np.dot(X, self.weights) + self.bias\n",
    "            y_pred = self.sigmoid(linear_model)\n",
    "\n",
    "            # Backward propagation: Compute gradients\n",
    "            dw = 1/m * np.dot(X.T, (y_pred - y))\n",
    "            db = 1/m * np.sum(y_pred - y)\n",
    "\n",
    "            # Update parameters\n",
    "            self.weights -= self.learning_rate * dw\n",
    "            self.bias -= self.learning_rate * db\n",
    "\n",
    "            # Optional: Calculate and print the loss every 100 iterations\n",
    "            if i % 100 == 0 :\n",
    "                loss = self.compute_loss(y, y_pred)\n",
    "                print(f\"Iteration {i}: Loss = {loss:.4f}\")\n",
    "\n",
    "    def predict(self, X):\n",
    "        linear_model = np.dot(X, self.weights) + self.bias\n",
    "        y_pred = self.sigmoid(linear_model)\n",
    "        return np.where(y_pred >= 0.5, 1, 0)\n",
    "\n",
    "# Step 3: Train Logistic Regression Model from scratch\n",
    "lr_model = LogisticRegressionScratch(learning_rate=1.8, num_iterations=5000)\n",
    "lr_model.fit(train_vectors, train_labels)\n",
    "\n",
    "# Step 4: Validate the Model\n",
    "val_predictions = lr_model.predict(validation_vectors)\n",
    "val_accuracy = accuracy_score(validation_labels, val_predictions)\n",
    "print(f\"Validation Accuracy: {val_accuracy * 100:.2f}%\")\n"
   ]
  },
  {
   "cell_type": "code",
   "execution_count": 18,
   "id": "4208436a",
   "metadata": {},
   "outputs": [
    {
     "name": "stdout",
     "output_type": "stream",
     "text": [
      "Train Accuracy: 86.75%\n",
      "Validation Accuracy: 76.70%\n",
      "Test Accuracy: 75.45%\n"
     ]
    }
   ],
   "source": [
    "# Step 4: Evaluate on Train Set\n",
    "train_predictions = lr_model.predict(train_vectors)\n",
    "train_accuracy = accuracy_score(train_labels, train_predictions)\n",
    "print(f\"Train Accuracy: {train_accuracy * 100:.2f}%\")\n",
    "\n",
    "# Step 5: Validate the Model on Validation Set\n",
    "val_predictions = lr_model.predict(validation_vectors)\n",
    "val_accuracy = accuracy_score(validation_labels, val_predictions)\n",
    "print(f\"Validation Accuracy: {val_accuracy * 100:.2f}%\")\n",
    "\n",
    "# Step 6: Test the Model on Test Set\n",
    "test_predictions = lr_model.predict(test_vectors)\n",
    "test_accuracy = accuracy_score(test_labels, test_predictions)\n",
    "print(f\"Test Accuracy: {test_accuracy * 100:.2f}%\")\n"
   ]
  },
  {
   "cell_type": "code",
   "execution_count": 21,
   "id": "41e6ccae",
   "metadata": {},
   "outputs": [
    {
     "name": "stdout",
     "output_type": "stream",
     "text": [
      "Classification Report:\n",
      "               precision    recall  f1-score   support\n",
      "\n",
      "    Negative       0.76      0.78      0.77       500\n",
      "    Positive       0.77      0.76      0.76       500\n",
      "\n",
      "    accuracy                           0.77      1000\n",
      "   macro avg       0.77      0.77      0.77      1000\n",
      "weighted avg       0.77      0.77      0.77      1000\n",
      "\n",
      "Confusion Matrix:\n",
      " [[388 112]\n",
      " [122 378]]\n",
      "TP: 378, TN: 388, FP: 112, FN: 122\n"
     ]
    }
   ],
   "source": [
    "from sklearn.metrics import classification_report, confusion_matrix\n",
    "\n",
    "# After making predictions on the validation or test set\n",
    "val_predictions = lr_model.predict(validation_vectors)\n",
    "\n",
    "# Generate a classification report\n",
    "report = classification_report(validation_labels, val_predictions, target_names=['Negative', 'Positive'])\n",
    "print(\"Classification Report:\\n\", report)\n",
    "\n",
    "# Confusion matrix to get TP, FP, TN, FN\n",
    "conf_matrix = confusion_matrix(validation_labels, val_predictions)\n",
    "print(\"Confusion Matrix:\\n\", conf_matrix)\n",
    "\n",
    "# Extract TP, FP, TN, FN from confusion matrix\n",
    "tn, fp, fn, tp = conf_matrix.ravel()\n",
    "print(f\"TP: {tp}, TN: {tn}, FP: {fp}, FN: {fn}\")\n"
   ]
  },
  {
   "cell_type": "code",
   "execution_count": null,
   "id": "e52d750a",
   "metadata": {},
   "outputs": [],
   "source": []
  },
  {
   "cell_type": "markdown",
   "id": "d4362bc1",
   "metadata": {},
   "source": [
    "# NAIVE BAYES CLASSIFER"
   ]
  },
  {
   "cell_type": "code",
   "execution_count": 30,
   "id": "ff8ff9ba",
   "metadata": {},
   "outputs": [
    {
     "name": "stdout",
     "output_type": "stream",
     "text": [
      "Validation Accuracy: 76.90%\n"
     ]
    },
    {
     "data": {
      "image/png": "[encoded data removed]",
      "text/plain": [
       "<Figure size 640x480 with 2 Axes>"
      ]
     },
     "metadata": {},
     "output_type": "display_data"
    },
    {
     "name": "stdout",
     "output_type": "stream",
     "text": [
      "Test Accuracy: 77.80%\n"
     ]
    },
    {
     "data": {
      "image/png": "[encoded data removed]",
      "text/plain": [
       "<Figure size 640x480 with 2 Axes>"
      ]
     },
     "metadata": {},
     "output_type": "display_data"
    }
   ],
   "source": [
    "import numpy as np\n",
    "import re\n",
    "import os\n",
    "import urllib.request\n",
    "import tarfile\n",
    "from sklearn.metrics import confusion_matrix\n",
    "import seaborn as sns\n",
    "import matplotlib.pyplot as plt\n",
    "from collections import defaultdict\n",
    "\n",
    "# Download and Extract Dataset\n",
    "url = 'https://www.cs.cornell.edu/people/pabo/movie-review-data/rt-polaritydata.tar.gz'\n",
    "file_name = 'rt-polaritydata.tar.gz'\n",
    "\n",
    "if not os.path.exists(file_name):\n",
    "    print(\"Downloading dataset...\")\n",
    "    urllib.request.urlretrieve(url, file_name)\n",
    "    print(\"Download complete.\")\n",
    "\n",
    "if not os.path.exists('rt-polaritydata'):\n",
    "    with tarfile.open(file_name, 'r:gz') as tar:\n",
    "        tar.extractall()\n",
    "        print(\"Extraction complete.\")\n",
    "\n",
    "positive_path = \"rt-polaritydata/rt-polarity.pos\"\n",
    "negative_path = \"rt-polaritydata/rt-polarity.neg\"\n",
    "\n",
    "# Step 2: Read Data\n",
    "with open(positive_path, 'r', encoding='latin-1') as file:\n",
    "    positive_sentences = [line.strip() for line in file.readlines()]\n",
    "\n",
    "with open(negative_path, 'r', encoding='latin-1') as file:\n",
    "    negative_sentences = [line.strip() for line in file.readlines()]\n",
    "\n",
    "positive_labels = np.ones(len(positive_sentences))\n",
    "negative_labels = np.zeros(len(negative_sentences))\n",
    "\n",
    "\n",
    "sentences = positive_sentences + negative_sentences\n",
    "labels = np.concatenate([positive_labels, negative_labels])\n",
    "\n",
    "# Preprocess Data\n",
    "def preprocess(text):\n",
    "    # Remove non-word characters and convert to lowercase\n",
    "    return re.sub(r'\\W+', ' ', text.lower())\n",
    "\n",
    "sentences = [preprocess(sentence) for sentence in sentences]\n",
    "\n",
    "# Step 4: Split Data into Train, Validation, and Test Sets\n",
    "train_sentences = positive_sentences[:4000] + negative_sentences[:4000]\n",
    "train_labels = np.concatenate([positive_labels[:4000], negative_labels[:4000]])\n",
    "\n",
    "validation_sentences = positive_sentences[4000:4500] + negative_sentences[4000:4500]\n",
    "validation_labels = np.concatenate([positive_labels[4000:4500], negative_labels[4000:4500]])\n",
    "\n",
    "test_sentences = positive_sentences[4500:] + negative_sentences[4500:]\n",
    "test_labels = np.concatenate([positive_labels[4500:], negative_labels[4500:]])\n",
    "\n",
    "# Naive Bayes Classifier with Regularization\n",
    "class NaiveBayesClassifier:\n",
    "    def __init__(self, smoothing=1.0):\n",
    "        self.smoothing = smoothing\n",
    "        self.vocab = set()\n",
    "        self.word_counts = defaultdict(lambda: [0, 0])\n",
    "        self.class_counts = [0, 0]\n",
    "    \n",
    "    def fit(self, texts, labels):\n",
    "        for text, label in zip(texts, labels):\n",
    "            self.class_counts[int(label)] += 1\n",
    "            for word in text.split():\n",
    "                self.vocab.add(word)\n",
    "                self.word_counts[word][int(label)] += 1\n",
    "    \n",
    "    def predict(self, text):\n",
    "        word_probs = np.log(np.array(self.class_counts) / sum(self.class_counts))\n",
    "        total_words = len(self.vocab)\n",
    "        \n",
    "        for word in text.split():\n",
    "            if word in self.vocab:\n",
    "                # Regularization: Adjust smoothing parameter for Laplace smoothing\n",
    "                word_probs[0] += np.log((self.word_counts[word][0] + self.smoothing) / \n",
    "                                        (self.class_counts[0] + self.smoothing * total_words))\n",
    "                word_probs[1] += np.log((self.word_counts[word][1] + self.smoothing) / \n",
    "                                        (self.class_counts[1] + self.smoothing * total_words))\n",
    "        return np.argmax(word_probs)\n",
    "    \n",
    "    def predict_all(self, texts):\n",
    "        return np.array([self.predict(text) for text in texts])\n",
    "\n",
    "# Model Training\n",
    "nb_model = NaiveBayesClassifier(smoothing = 3)  # Adjusting smoothing for regularization\n",
    "nb_model.fit(train_sentences, train_labels)\n",
    "\n",
    "# Step 7: Evaluate Naive Bayes Classifier\n",
    "def evaluate(model, sentences, labels, dataset_name=\"Test\"):\n",
    "    preds = model.predict_all(sentences)\n",
    "    accuracy = np.mean(preds == labels)\n",
    "    print(f\"{dataset_name} Accuracy: {accuracy * 100:.2f}%\")\n",
    "    cm = confusion_matrix(labels, preds)\n",
    "    sns.heatmap(cm, annot=True, fmt='d', cmap='Blues',\n",
    "                xticklabels=['Negative', 'Positive'],\n",
    "                yticklabels=['Negative', 'Positive'])\n",
    "    plt.title(f\"Confusion Matrix ({dataset_name})\")\n",
    "    plt.xlabel(\"Predicted Label\")\n",
    "    plt.ylabel(\"True Label\")\n",
    "    plt.show()\n",
    "\n",
    "# Train, Validation, Test Evaluation\n",
    "evaluate(nb_model, validation_sentences, validation_labels, \"Validation\")\n",
    "evaluate(nb_model, test_sentences, test_labels, \"Test\")\n"
   ]
  },
  {
   "cell_type": "code",
   "execution_count": 23,
   "id": "8f7d6b1c",
   "metadata": {},
   "outputs": [
    {
     "name": "stdout",
     "output_type": "stream",
     "text": [
      "Classification Report:\n",
      "               precision    recall  f1-score   support\n",
      "\n",
      "    Negative       0.76      0.78      0.77       500\n",
      "    Positive       0.77      0.76      0.76       500\n",
      "\n",
      "    accuracy                           0.77      1000\n",
      "   macro avg       0.77      0.77      0.77      1000\n",
      "weighted avg       0.77      0.77      0.77      1000\n",
      "\n",
      "Confusion Matrix:\n",
      " [[388 112]\n",
      " [122 378]]\n",
      "TP: 378, TN: 388, FP: 112, FN: 122\n"
     ]
    }
   ],
   "source": [
    "from sklearn.metrics import classification_report, confusion_matrix\n",
    "\n",
    "# After making predictions on the validation or test set\n",
    "val_predictions = lr_model.predict(validation_vectors)\n",
    "\n",
    "# Generate a classification report\n",
    "report = classification_report(validation_labels, val_predictions, target_names=['Negative', 'Positive'])\n",
    "print(\"Classification Report:\\n\", report)\n",
    "\n",
    "# Confusion matrix to get TP, FP, TN, FN\n",
    "conf_matrix = confusion_matrix(validation_labels, val_predictions)\n",
    "print(\"Confusion Matrix:\\n\", conf_matrix)\n",
    "\n",
    "# Extract TP, FP, TN, FN from confusion matrix\n",
    "tn, fp, fn, tp = conf_matrix.ravel()\n",
    "print(f\"TP: {tp}, TN: {tn}, FP: {fp}, FN: {fn}\")\n"
   ]
  },
  {
   "cell_type": "code",
   "execution_count": null,
   "id": "20e79428",
   "metadata": {},
   "outputs": [],
   "source": []
  },
  {
   "cell_type": "code",
   "execution_count": null,
   "id": "80eedd39",
   "metadata": {},
   "outputs": [],
   "source": []
  },
  {
   "cell_type": "code",
   "execution_count": null,
   "id": "f408bf4d",
   "metadata": {},
   "outputs": [],
   "source": []
  },
  {
   "cell_type": "markdown",
   "id": "ab402f4b",
   "metadata": {},
   "source": [
    "# NAIVE BAYES CLASSIFIER USING STEMMING AND NGRAMS"
   ]
  },
  {
   "cell_type": "code",
   "execution_count": 31,
   "id": "068fcab6",
   "metadata": {},
   "outputs": [
    {
     "name": "stdout",
     "output_type": "stream",
     "text": [
      "Requirement already satisfied: nltk in c:\\users\\binod kumar\\appdata\\local\\programs\\python\\python311\\lib\\site-packages (3.9.1)\n",
      "Requirement already satisfied: click in c:\\users\\binod kumar\\appdata\\local\\programs\\python\\python311\\lib\\site-packages (from nltk) (8.1.3)\n",
      "Requirement already satisfied: joblib in c:\\users\\binod kumar\\appdata\\local\\programs\\python\\python311\\lib\\site-packages (from nltk) (1.3.2)\n",
      "Requirement already satisfied: regex>=2021.8.3 in c:\\users\\binod kumar\\appdata\\local\\programs\\python\\python311\\lib\\site-packages (from nltk) (2024.5.15)\n",
      "Requirement already satisfied: tqdm in c:\\users\\binod kumar\\appdata\\local\\programs\\python\\python311\\lib\\site-packages (from nltk) (4.66.1)\n",
      "Requirement already satisfied: colorama in c:\\users\\binod kumar\\appdata\\roaming\\python\\python311\\site-packages (from click->nltk) (0.4.3)\n",
      "Note: you may need to restart the kernel to use updated packages.\n"
     ]
    }
   ],
   "source": [
    "pip install nltk"
   ]
  },
  {
   "cell_type": "code",
   "execution_count": 22,
   "id": "4a051376",
   "metadata": {},
   "outputs": [
    {
     "name": "stderr",
     "output_type": "stream",
     "text": [
      "[nltk_data] Downloading package stopwords to C:\\Users\\Binod\n",
      "[nltk_data]     Kumar\\AppData\\Roaming\\nltk_data...\n",
      "[nltk_data]   Package stopwords is already up-to-date!\n"
     ]
    },
    {
     "name": "stdout",
     "output_type": "stream",
     "text": [
      "Validation Accuracy: 78.70%\n"
     ]
    },
    {
     "data": {
      "image/png": "[encoded data removed]",
      "text/plain": [
       "<Figure size 640x480 with 2 Axes>"
      ]
     },
     "metadata": {},
     "output_type": "display_data"
    },
    {
     "name": "stdout",
     "output_type": "stream",
     "text": [
      "Test Accuracy: 77.80%\n"
     ]
    },
    {
     "data": {
      "image/png": "[encoded data removed]",
      "text/plain": [
       "<Figure size 640x480 with 2 Axes>"
      ]
     },
     "metadata": {},
     "output_type": "display_data"
    }
   ],
   "source": [
    "import numpy as np\n",
    "import re\n",
    "import os\n",
    "import urllib.request\n",
    "import tarfile\n",
    "from sklearn.metrics import confusion_matrix\n",
    "import seaborn as sns\n",
    "import matplotlib.pyplot as plt\n",
    "from collections import defaultdict\n",
    "from nltk.corpus import stopwords\n",
    "from nltk.stem import PorterStemmer\n",
    "from math import log\n",
    "\n",
    "# Download stopwords\n",
    "import nltk\n",
    "nltk.download('stopwords')\n",
    "\n",
    "# Step 1: Download and Extract Dataset\n",
    "url = 'https://www.cs.cornell.edu/people/pabo/movie-review-data/rt-polaritydata.tar.gz'\n",
    "file_name = 'rt-polaritydata.tar.gz'\n",
    "\n",
    "if not os.path.exists(file_name):\n",
    "    print(\"Downloading dataset...\")\n",
    "    urllib.request.urlretrieve(url, file_name)\n",
    "    print(\"Download complete.\")\n",
    "\n",
    "if not os.path.exists('rt-polaritydata'):\n",
    "    with tarfile.open(file_name, 'r:gz') as tar:\n",
    "        tar.extractall()\n",
    "        print(\"Extraction complete.\")\n",
    "\n",
    "positive_path = \"rt-polaritydata/rt-polarity.pos\"\n",
    "negative_path = \"rt-polaritydata/rt-polarity.neg\"\n",
    "\n",
    "# Step 2: Read Data\n",
    "with open(positive_path, 'r', encoding='latin-1') as file:\n",
    "    positive_sentences = [line.strip() for line in file.readlines()]\n",
    "\n",
    "with open(negative_path, 'r', encoding='latin-1') as file:\n",
    "    negative_sentences = [line.strip() for line in file.readlines()]\n",
    "\n",
    "positive_labels = np.ones(len(positive_sentences))\n",
    "negative_labels = np.zeros(len(negative_sentences))\n",
    "\n",
    "# Combine sentences and labels\n",
    "sentences = positive_sentences + negative_sentences\n",
    "labels = np.concatenate([positive_labels, negative_labels])\n",
    "\n",
    "# Step 3: Preprocess Data\n",
    "stemmer = PorterStemmer()\n",
    "stop_words = set(stopwords.words('english'))\n",
    "\n",
    "def preprocess(text):\n",
    "    # Remove non-word characters, convert to lowercase, remove stopwords, and apply stemming\n",
    "    words = re.sub(r'\\W+', ' ', text.lower()).split()\n",
    "    filtered_words = [stemmer.stem(word) for word in words if word not in stop_words]\n",
    "    return ' '.join(filtered_words)\n",
    "\n",
    "sentences = [preprocess(sentence) for sentence in sentences]\n",
    "\n",
    "# Step 4: Split Data into Train, Validation, and Test Sets\n",
    "train_sentences = positive_sentences[:4000] + negative_sentences[:4000]\n",
    "train_labels = np.concatenate([positive_labels[:4000], negative_labels[:4000]])\n",
    "\n",
    "validation_sentences = positive_sentences[4000:4500] + negative_sentences[4000:4500]\n",
    "validation_labels = np.concatenate([positive_labels[4000:4500], negative_labels[4000:4500]])\n",
    "\n",
    "test_sentences = positive_sentences[4500:] + negative_sentences[4500:]\n",
    "test_labels = np.concatenate([positive_labels[4500:], negative_labels[4500:]])\n",
    "\n",
    "# Step 5: Implement Naive Bayes Classifier with TF-IDF and n-grams (up to bigrams)\n",
    "class NaiveBayesClassifier:\n",
    "    def __init__(self, smoothing=1.0):\n",
    "        self.smoothing = smoothing\n",
    "        self.vocab = defaultdict(lambda: [0, 0])  # word -> [class_0_count, class_1_count]\n",
    "        self.class_counts = [0, 0]  # [count of negative, count of positive]\n",
    "        self.total_vocab = 0\n",
    "    \n",
    "    def extract_ngrams(self, text, n=2):\n",
    "        words = text.split()\n",
    "        return [' '.join(words[i:i+n]) for i in range(len(words) - n + 1)]\n",
    "    \n",
    "    def fit(self, texts, labels):\n",
    "        for text, label in zip(texts, labels):\n",
    "            self.class_counts[int(label)] += 1\n",
    "            words = text.split() + self.extract_ngrams(text, n=2)  # include unigrams and bigrams\n",
    "            for word in words:\n",
    "                self.vocab[word][int(label)] += 1\n",
    "        self.total_vocab = len(self.vocab)\n",
    "    \n",
    "    def predict(self, text):\n",
    "        words = text.split() + self.extract_ngrams(text, n=2)\n",
    "        word_probs = [log(self.class_counts[0] / sum(self.class_counts)), \n",
    "                      log(self.class_counts[1] / sum(self.class_counts))]\n",
    "\n",
    "        for word in words:\n",
    "            if word in self.vocab:\n",
    "                # Regularization: Apply Laplace smoothing\n",
    "                word_probs[0] += log((self.vocab[word][0] + self.smoothing) / \n",
    "                                     (self.class_counts[0] + self.smoothing * self.total_vocab))\n",
    "                word_probs[1] += log((self.vocab[word][1] + self.smoothing) / \n",
    "                                     (self.class_counts[1] + self.smoothing * self.total_vocab))\n",
    "        return np.argmax(word_probs)\n",
    "    \n",
    "    def predict_all(self, texts):\n",
    "        return np.array([self.predict(text) for text in texts])\n",
    "\n",
    "# Step 6: Train the Model\n",
    "nb_model = NaiveBayesClassifier(smoothing=2.5)  # Adjusting smoothing for regularization\n",
    "nb_model.fit(train_sentences, train_labels)\n",
    "\n",
    "# Step 7: Evaluate Naive Bayes Classifier\n",
    "def evaluate(model, sentences, labels, dataset_name=\"Test\"):\n",
    "    preds = model.predict_all(sentences)\n",
    "    accuracy = np.mean(preds == labels)\n",
    "    print(f\"{dataset_name} Accuracy: {accuracy * 100:.2f}%\")\n",
    "    cm = confusion_matrix(labels, preds)\n",
    "    sns.heatmap(cm, annot=True, fmt='d', cmap='Blues',\n",
    "                xticklabels=['Negative', 'Positive'],\n",
    "                yticklabels=['Negative', 'Positive'])\n",
    "    plt.title(f\"Confusion Matrix ({dataset_name})\")\n",
    "    plt.xlabel(\"Predicted Label\")\n",
    "    plt.ylabel(\"True Label\")\n",
    "    plt.show()\n",
    "\n",
    "# Train, Validation, Test Evaluation\n",
    "# evaluate(nb_model, train_sentences, train_labels, \"Train\")\n",
    "evaluate(nb_model, validation_sentences, validation_labels, \"Validation\")\n",
    "evaluate(nb_model, test_sentences, test_labels, \"Test\")\n"
   ]
  },
  {
   "cell_type": "code",
   "execution_count": 15,
   "id": "cff56e34",
   "metadata": {},
   "outputs": [
    {
     "name": "stdout",
     "output_type": "stream",
     "text": [
      "True Positives (TP): 638\n",
      "True Negatives (TN): 656\n",
      "False Positives (FP): 175\n",
      "False Negatives (FN): 193\n",
      "Precision: 0.7847\n",
      "Recall: 0.7677\n",
      "F1-score: 0.7762\n"
     ]
    }
   ],
   "source": [
    "from sklearn.metrics import confusion_matrix, precision_score, recall_score, f1_score\n",
    "\n",
    "# Predict on the test set\n",
    "test_preds = nb_model.predict_all(test_sentences)\n",
    "\n",
    "# Confusion matrix\n",
    "tn, fp, fn, tp = confusion_matrix(test_labels, test_preds).ravel()\n",
    "\n",
    "# Precision, Recall, F1\n",
    "precision = precision_score(test_labels, test_preds)\n",
    "recall = recall_score(test_labels, test_preds)\n",
    "f1 = f1_score(test_labels, test_preds)\n",
    "\n",
    "# Print metrics\n",
    "print(f\"True Positives (TP): {tp}\")\n",
    "print(f\"True Negatives (TN): {tn}\")\n",
    "print(f\"False Positives (FP): {fp}\")\n",
    "print(f\"False Negatives (FN): {fn}\")\n",
    "print(f\"Precision: {precision:.4f}\")\n",
    "print(f\"Recall: {recall:.4f}\")\n",
    "print(f\"F1-score: {f1:.4f}\")\n"
   ]
  },
  {
   "cell_type": "code",
   "execution_count": null,
   "id": "1e067663",
   "metadata": {},
   "outputs": [],
   "source": []
  }
 ],
 "metadata": {
  "kernelspec": {
   "display_name": "Python 3 (ipykernel)",
   "language": "python",
   "name": "python3"
  },
  "language_info": {
   "codemirror_mode": {
    "name": "ipython",
    "version": 3
   },
   "file_extension": ".py",
   "mimetype": "text/x-python",
   "name": "python",
   "nbconvert_exporter": "python",
   "pygments_lexer": "ipython3",
   "version": "3.11.1"
  }
 },
 "nbformat": 4,
 "nbformat_minor": 5
}
